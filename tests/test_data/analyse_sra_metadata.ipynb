{
 "cells": [
  {
   "cell_type": "code",
   "execution_count": 1,
   "id": "initial_id",
   "metadata": {},
   "outputs": [],
   "source": [
    "from pathlib import Path\n",
    "import pandas as pd"
   ]
  },
  {
   "cell_type": "code",
   "execution_count": 2,
   "id": "c78fa53d-d9b5-4f9b-9ca3-c5d3bc65430c",
   "metadata": {},
   "outputs": [],
   "source": [
    "folder = Path(\"/home/olivier/repositories/nf-chimera-detector/results/test_full/sra_metadata\")"
   ]
  },
  {
   "cell_type": "code",
   "execution_count": 3,
   "id": "95ff56ec-b768-42f2-89c2-d343cb85a536",
   "metadata": {},
   "outputs": [],
   "source": [
    "family_to_files = {}\n",
    "for family_folder in folder.iterdir():\n",
    "    files = []\n",
    "    for taxid_folder in family_folder.iterdir():\n",
    "        for file in taxid_folder.iterdir():\n",
    "            if file.name.endswith(\".txt\"):\n",
    "                files.append(file)\n",
    "    family_to_files[family_folder.name] = files"
   ]
  },
  {
   "cell_type": "code",
   "execution_count": 4,
   "id": "f1d26ac7-0f6d-4375-a935-155ed753feba",
   "metadata": {},
   "outputs": [],
   "source": [
    "family_to_srrs = {}\n",
    "for family, files in family_to_files.items():\n",
    "    family_srrs = []\n",
    "    for file in files:\n",
    "        with open(file, 'r') as f:\n",
    "            srrs = [srr.strip('\\n') for srr in f.readlines()]\n",
    "            if srrs:\n",
    "                family_srrs += srrs\n",
    "    family_to_srrs[family] = family_srrs"
   ]
  },
  {
   "cell_type": "code",
   "execution_count": 5,
   "id": "36c62a0b-084a-454b-a35f-ed0588fea3be",
   "metadata": {},
   "outputs": [],
   "source": [
    "family_to_nb_srrs = {family: len(srrs) for family, srrs in family_to_srrs.items()}"
   ]
  },
  {
   "cell_type": "code",
   "execution_count": 6,
   "id": "430544da-bb59-4ab6-b7fa-06b33d21c767",
   "metadata": {},
   "outputs": [
    {
     "data": {
      "text/plain": [
       "{'Mesomimiviridae': 0,\n",
       " 'Mimiviridae': 25,\n",
       " 'Pithoviridae': 4,\n",
       " 'Alloherpesviridae': 29,\n",
       " 'Schizomimiviridae': 12,\n",
       " 'Ascoviridae': 2,\n",
       " 'Baculoviridae': 346,\n",
       " 'Filamentoviridae': 0,\n",
       " 'Asfarviridae': 1355,\n",
       " 'Malacoherpesviridae': 99,\n",
       " 'Marseilleviridae': 106,\n",
       " 'Nimaviridae': 20,\n",
       " 'Orthoherpesviridae': 8756,\n",
       " 'Poxviridae': 4568,\n",
       " 'Iridoviridae': 416,\n",
       " 'Orpheoviridae': 0,\n",
       " 'Nudiviridae': 8,\n",
       " 'Allomimiviridae': 0,\n",
       " 'Mamonoviridae': 2,\n",
       " 'Phycodnaviridae': 436,\n",
       " 'Hytrosaviridae': 0}"
      ]
     },
     "execution_count": 6,
     "metadata": {},
     "output_type": "execute_result"
    }
   ],
   "source": [
    "family_to_nb_srrs"
   ]
  },
  {
   "cell_type": "code",
   "execution_count": null,
   "id": "f5773500-1268-450a-9bf2-d752563ea94b",
   "metadata": {},
   "outputs": [],
   "source": []
  }
 ],
 "metadata": {
  "kernelspec": {
   "display_name": "Python 3 (ipykernel)",
   "language": "python",
   "name": "python3"
  },
  "language_info": {
   "codemirror_mode": {
    "name": "ipython",
    "version": 3
   },
   "file_extension": ".py",
   "mimetype": "text/x-python",
   "name": "python",
   "nbconvert_exporter": "python",
   "pygments_lexer": "ipython3",
   "version": "3.13.5"
  }
 },
 "nbformat": 4,
 "nbformat_minor": 5
}
